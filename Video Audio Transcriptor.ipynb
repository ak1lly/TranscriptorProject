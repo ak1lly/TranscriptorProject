{
 "cells": [
  {
   "cell_type": "markdown",
   "metadata": {},
   "source": [
    "Import dependencies"
   ]
  },
  {
   "cell_type": "code",
   "execution_count": null,
   "metadata": {},
   "outputs": [],
   "source": [
    "%pip install ffmpeg\n",
    "%pip install assemblyai"
   ]
  },
  {
   "cell_type": "code",
   "execution_count": 4,
   "metadata": {},
   "outputs": [],
   "source": [
    "#allow to make a subprocess call in the terminal\n",
    "import subprocess\n",
    "import assemblyai as aai "
   ]
  },
  {
   "cell_type": "markdown",
   "metadata": {},
   "source": [
    "Extract audio from video (mp4 -> mp3)\n",
    "** do not run if mp3 file already exist **"
   ]
  },
  {
   "cell_type": "code",
   "execution_count": null,
   "metadata": {},
   "outputs": [],
   "source": [
    "#edit name appropriately\n",
    "video_title = 'name'\n",
    "command = 'ffmpeg -i ' + video_title + '.mp4 -ab 160k -ar 44100 -vn ' + video_title + '.mp3'\n",
    "subprocess.call(command, shell=True)"
   ]
  },
  {
   "cell_type": "markdown",
   "metadata": {},
   "source": [
    "Transcribe the audio using AssemblyAI API"
   ]
  },
  {
   "cell_type": "code",
   "execution_count": 5,
   "metadata": {},
   "outputs": [],
   "source": [
    "aai.settings.api_key = \"372a7c42444042cca6718a538152b2c3\"\n",
    "transcriber = aai.Transcriber()\n",
    "transcript = transcriber.transcribe(\"./\"+video_title+\".mp3\")"
   ]
  },
  {
   "cell_type": "markdown",
   "metadata": {},
   "source": [
    "Option 1: Print transcript to terminal"
   ]
  },
  {
   "cell_type": "code",
   "execution_count": null,
   "metadata": {},
   "outputs": [],
   "source": [
    "print(transcript.text)"
   ]
  },
  {
   "cell_type": "markdown",
   "metadata": {},
   "source": [
    "Option 2: Transcribe to txt file"
   ]
  },
  {
   "cell_type": "code",
   "execution_count": 6,
   "metadata": {},
   "outputs": [],
   "source": [
    "#edit name appropriately\n",
    "file_name = 'name_transcript'\n",
    "with open(file_name+'.txt', 'w') as out:\n",
    "    i = 0\n",
    "    c = 0\n",
    "    x = len(transcript.text)\n",
    "    while(i != x):\n",
    "        if(transcript.text[i] == ' '):\n",
    "            c+=1\n",
    "        \n",
    "        out.write(transcript.text[i])\n",
    "        if(c == 15):\n",
    "            out.write('\\n')\n",
    "            c = 0\n",
    "        i+=1"
   ]
  }
 ],
 "metadata": {
  "kernelspec": {
   "display_name": "Python 3",
   "language": "python",
   "name": "python3"
  },
  "language_info": {
   "codemirror_mode": {
    "name": "ipython",
    "version": 3
   },
   "file_extension": ".py",
   "mimetype": "text/x-python",
   "name": "python",
   "nbconvert_exporter": "python",
   "pygments_lexer": "ipython3",
   "version": "3.11.0"
  }
 },
 "nbformat": 4,
 "nbformat_minor": 2
}
