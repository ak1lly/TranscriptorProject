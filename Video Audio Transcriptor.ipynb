{
 "cells": [
  {
   "cell_type": "markdown",
   "metadata": {},
   "source": [
    "Import dependencies"
   ]
  },
  {
   "cell_type": "code",
   "execution_count": null,
   "metadata": {},
   "outputs": [
    {
     "name": "stdout",
     "output_type": "stream",
     "text": [
      "Requirement already satisfied: ibm_watson in c:\\users\\shaki\\appdata\\local\\programs\\python\\python311\\lib\\site-packages (7.0.1)\n",
      "Requirement already satisfied: requests<3.0,>=2.0 in c:\\users\\shaki\\appdata\\local\\programs\\python\\python311\\lib\\site-packages (from ibm_watson) (2.31.0)\n",
      "Requirement already satisfied: python-dateutil>=2.5.3 in c:\\users\\shaki\\appdata\\roaming\\python\\python311\\site-packages (from ibm_watson) (2.8.2)\n",
      "Requirement already satisfied: websocket-client>=1.1.0 in c:\\users\\shaki\\appdata\\local\\programs\\python\\python311\\lib\\site-packages (from ibm_watson) (1.7.0)\n",
      "Requirement already satisfied: ibm-cloud-sdk-core==3.*,>=3.3.6 in c:\\users\\shaki\\appdata\\local\\programs\\python\\python311\\lib\\site-packages (from ibm_watson) (3.18.2)\n",
      "Requirement already satisfied: urllib3<3.0.0,>=2.1.0 in c:\\users\\shaki\\appdata\\local\\programs\\python\\python311\\lib\\site-packages (from ibm-cloud-sdk-core==3.*,>=3.3.6->ibm_watson) (2.1.0)\n",
      "Requirement already satisfied: PyJWT<3.0.0,>=2.8.0 in c:\\users\\shaki\\appdata\\local\\programs\\python\\python311\\lib\\site-packages (from ibm-cloud-sdk-core==3.*,>=3.3.6->ibm_watson) (2.8.0)\n",
      "Requirement already satisfied: six>=1.5 in c:\\users\\shaki\\appdata\\roaming\\python\\python311\\site-packages (from python-dateutil>=2.5.3->ibm_watson) (1.16.0)\n",
      "Requirement already satisfied: charset-normalizer<4,>=2 in c:\\users\\shaki\\appdata\\local\\programs\\python\\python311\\lib\\site-packages (from requests<3.0,>=2.0->ibm_watson) (3.3.2)\n",
      "Requirement already satisfied: idna<4,>=2.5 in c:\\users\\shaki\\appdata\\local\\programs\\python\\python311\\lib\\site-packages (from requests<3.0,>=2.0->ibm_watson) (3.6)\n",
      "Requirement already satisfied: certifi>=2017.4.17 in c:\\users\\shaki\\appdata\\local\\programs\\python\\python311\\lib\\site-packages (from requests<3.0,>=2.0->ibm_watson) (2023.11.17)\n",
      "Note: you may need to restart the kernel to use updated packages.\n"
     ]
    },
    {
     "name": "stderr",
     "output_type": "stream",
     "text": [
      "\n",
      "[notice] A new release of pip available: 22.3 -> 23.3.2\n",
      "[notice] To update, run: python.exe -m pip install --upgrade pip\n"
     ]
    },
    {
     "name": "stdout",
     "output_type": "stream",
     "text": [
      "Requirement already satisfied: ffmpeg in c:\\users\\shaki\\appdata\\local\\programs\\python\\python311\\lib\\site-packages (1.4)\n",
      "Note: you may need to restart the kernel to use updated packages.\n"
     ]
    },
    {
     "name": "stderr",
     "output_type": "stream",
     "text": [
      "\n",
      "[notice] A new release of pip available: 22.3 -> 23.3.2\n",
      "[notice] To update, run: python.exe -m pip install --upgrade pip\n"
     ]
    },
    {
     "name": "stdout",
     "output_type": "stream",
     "text": [
      "Requirement already satisfied: assemblyai in c:\\users\\shaki\\appdata\\local\\programs\\python\\python311\\lib\\site-packages (0.20.2)\n",
      "Requirement already satisfied: httpx>=0.19.0 in c:\\users\\shaki\\appdata\\local\\programs\\python\\python311\\lib\\site-packages (from assemblyai) (0.26.0)\n",
      "Requirement already satisfied: pydantic!=1.10.7,>=1.7.0 in c:\\users\\shaki\\appdata\\local\\programs\\python\\python311\\lib\\site-packages (from assemblyai) (2.5.3)\n",
      "Requirement already satisfied: typing-extensions>=3.7 in c:\\users\\shaki\\appdata\\local\\programs\\python\\python311\\lib\\site-packages (from assemblyai) (4.9.0)\n",
      "Requirement already satisfied: websockets>=11.0 in c:\\users\\shaki\\appdata\\local\\programs\\python\\python311\\lib\\site-packages (from assemblyai) (12.0)\n",
      "Requirement already satisfied: anyio in c:\\users\\shaki\\appdata\\local\\programs\\python\\python311\\lib\\site-packages (from httpx>=0.19.0->assemblyai) (4.2.0)\n",
      "Requirement already satisfied: certifi in c:\\users\\shaki\\appdata\\local\\programs\\python\\python311\\lib\\site-packages (from httpx>=0.19.0->assemblyai) (2023.11.17)\n",
      "Requirement already satisfied: httpcore==1.* in c:\\users\\shaki\\appdata\\local\\programs\\python\\python311\\lib\\site-packages (from httpx>=0.19.0->assemblyai) (1.0.2)\n",
      "Requirement already satisfied: idna in c:\\users\\shaki\\appdata\\local\\programs\\python\\python311\\lib\\site-packages (from httpx>=0.19.0->assemblyai) (3.6)\n",
      "Requirement already satisfied: sniffio in c:\\users\\shaki\\appdata\\local\\programs\\python\\python311\\lib\\site-packages (from httpx>=0.19.0->assemblyai) (1.3.0)\n",
      "Requirement already satisfied: h11<0.15,>=0.13 in c:\\users\\shaki\\appdata\\local\\programs\\python\\python311\\lib\\site-packages (from httpcore==1.*->httpx>=0.19.0->assemblyai) (0.14.0)\n",
      "Requirement already satisfied: annotated-types>=0.4.0 in c:\\users\\shaki\\appdata\\local\\programs\\python\\python311\\lib\\site-packages (from pydantic!=1.10.7,>=1.7.0->assemblyai) (0.6.0)\n",
      "Requirement already satisfied: pydantic-core==2.14.6 in c:\\users\\shaki\\appdata\\local\\programs\\python\\python311\\lib\\site-packages (from pydantic!=1.10.7,>=1.7.0->assemblyai) (2.14.6)\n",
      "Note: you may need to restart the kernel to use updated packages.\n"
     ]
    },
    {
     "name": "stderr",
     "output_type": "stream",
     "text": [
      "\n",
      "[notice] A new release of pip available: 22.3 -> 23.3.2\n",
      "[notice] To update, run: python.exe -m pip install --upgrade pip\n"
     ]
    }
   ],
   "source": [
    "%pip install ffmpeg\n",
    "%pip install assemblyai"
   ]
  },
  {
   "cell_type": "code",
   "execution_count": 2,
   "metadata": {},
   "outputs": [],
   "source": [
    "#allow to make a subprocess call in the terminal\n",
    "import subprocess\n",
    "import assemblyai as aai "
   ]
  },
  {
   "cell_type": "markdown",
   "metadata": {},
   "source": [
    "Extract audio from video (mp4 -> mp3)\n",
    "** do not run if mp3 file already exist **"
   ]
  },
  {
   "cell_type": "code",
   "execution_count": 4,
   "metadata": {},
   "outputs": [
    {
     "data": {
      "text/plain": [
       "0"
      ]
     },
     "execution_count": 4,
     "metadata": {},
     "output_type": "execute_result"
    }
   ],
   "source": [
    "#edit name appropriately\n",
    "video_title = 'name'\n",
    "command = 'ffmpeg -i ' + video_title + '.mp4 -ab 160k -ar 44100 -vn ' + video_title + '.mp3'\n",
    "subprocess.call(command, shell=True)"
   ]
  },
  {
   "cell_type": "markdown",
   "metadata": {},
   "source": [
    "Transcribe the audio using AssemblyAI API"
   ]
  },
  {
   "cell_type": "code",
   "execution_count": 5,
   "metadata": {},
   "outputs": [],
   "source": [
    "aai.settings.api_key = \"372a7c42444042cca6718a538152b2c3\"\n",
    "transcriber = aai.Transcriber()\n",
    "transcript = transcriber.transcribe(\"./\"+video_title+\".mp3\")"
   ]
  },
  {
   "cell_type": "markdown",
   "metadata": {},
   "source": [
    "Option 1: Print transcript to terminal"
   ]
  },
  {
   "cell_type": "code",
   "execution_count": 5,
   "metadata": {},
   "outputs": [
    {
     "name": "stdout",
     "output_type": "stream",
     "text": [
      "There are exactly 14 different games of Tictactoe. Now, some of you may object to this statement based on the fact that there are obviously more than 14 games of Tictactoe. But check out this asterisk right here. Let's zoom in on that a sec. What exactly do we mean by different? Well, let's start by counting all the different games. In the most obvious, naive sense, there are nine possible squares for the first move, eight for the second move, seven for the third move, and so on. That means that the total number of possible games is nine times eight, times seven times six, all the way down to one or nine factorial, which is 362 880. But this is a bit silly, because it includes games like this, which are over before all the squares are filled. So if you instead make the reasonable decision to stop playing when someone has won, it turns out that there are actually only 255 168 games of tictactoe. But here's the thing about that number. The tictactoe board is symmetrical, both by rotation and mirroring. So a lot of those games are just rotated or mirrored copies of each other. For example, a game that starts like this is strategically identical to a game that starts like this. It's just a question of vantage point. For the same reason, there are only really three opening moves. The center, the edge, and the corner. If you choose an edge or corner, the symmetry of the board means that it doesn't really matter which edge or corner you choose. So when we filter out all of that redundancy, and by the way, I'm doing that via some python code I wrote, it turns out that there are really only 31 896 different games of Tictactoe. That's a lot less than 255, 168, but it's still a lot more than 14. How on earth did I get it down to 14? Oh, by the way, we're going to make a glaring mistake somewhere in this video. I should have mentioned that, so keep your eyes peeled. Anyway, basically, what we've been doing here is grouping together games that are in some sense the same. And there's a term in math for such a grouping. It's called an equivalence class. Since this is normally a music channel, let's take a musical example. These six chords all have different pitches. But the musicians among you might recognize that some of them are actually the same kind of chord. If we ignore the order of the pitches and how high or low they are, we can group these chords into three different equivalence classes. Notice that this grouping is based on a certain idea of equality. These two chords are the same because they have the same types of pitches in the same way. My count of 31 896 games of Tictactoe is based on the idea that these eight board positions are the same. Still, we can whittle it down quite a bit more because the truth is, most of those games are garbage. They involve players actively avoiding winning moves for no reason. No one would play a game of tictactoe like that. In fact, are you even really playing Tictactoe if you're not attempting to achieve the goal of the game? Maybe. But for the purposes of this video, no. And so let's add the extra condition that when a player has a winning move, they take it. Under that condition, there are now only 6956 different games of Tictactoe. But now that we're requiring a certain level of competency from our players, it would be silly not to have them also block each other's winning moves. Not avoiding losing is almost as bad as not choosing to win when it comes in such a blatant and easily recognizable form. Adding this basic condition to our gameplay and redoing the calculation, we end up with only 2936 possible games. Even at this point, though, we're dealing with a set of games that includes some pretty stupid play that no selfrespecting tictactoer would ever engage in. Take this board for instance, where it's O's turn to play. Who in their right mind would play here or here when it doesn't even set you up for getting three in a row? Let's assume that our players at least set themselves up to win if they can. With this condition, there are now only 146 different games of tictactoe. Oh, and there's a slightly stronger form of this condition. Where would you play in this situation? Unless you're pretty new to Tictactoe, I'm guessing you would pick one of these two squares because it gives you two opportunities to win. And since your opponent can only block one, you'll win for sure on your next turn. If we assume players take this opportunity when they see it, there are only 102 games. But even these 102 games are overcounting a little because they include several pairs of games that are essentially the same. Consider these two games, for example. The only difference occurs at the end, after the winning player creates a fork. At this point, the game is a foregone conclusion. It's just a question of which of the two winning moves the losing player wants to block. So, paring down these essentially identical games, we arrive at 64 games of Tictactoe. But where did I get 14? Well, here, let's play a game of tictactoe. You go first. Oh, you want to play in the center square. Of course you want to play in the center square. It's the best move, right? It sets you up for four different possible ways of winning, more than any other square. And assuming you play the center, there are now only 14 ways that this game can play out. Want to see them all? Want to hear them all? I mentioned this is a music channel, so I hope you don't mind if I do a bit of sonification. Here you go. Worm, whim, wham, wheel, worm, whim, whim, wheel, worm, whim, wham, wham, wham, wham, whim, wham, wham, wham, whim, wheel, worm, worm, worm, worm, worm, worm, wimpy, worm, worm, worm, worm, whim, wham, wham, wham, worm, whim, wham, wham, wham, whim, wham, whirlwind. You might have noticed that of these 14 games, x won five of them. Eight were draws, and o won only one of them. Factoring out symmetrical games and assuming players do a decent job of trying to win, this is the only way o can win. What a tragically unbalanced and, frankly, terrible game. Although I did mention earlier that we were going to make a mistake. Any idea what it was? Well, it turns out, and this took me a bit by surprise myself when I looked it up, that the best opening move is not actually the center, it's the corner. If we break down the 64 games I mentioned earlier into games where you start with the center, games where you start with the corner, and games where you start with the edge, your best shot, percentage wise, is to start with the corner. So maybe I should have titled this video. There are exactly 27 games of Tictactoe. Or, actually, if we assume that both players start with their optimal moves, x plays in the corner, o responds with the center. Then there are only three. Three different games, and they all end in a draw. So. 60, 414, 27. Three. I guess it all depends on what you mean by different and what we assume about the players. But one thing is clear, tictactoe is a fucking stupid game. By the way, the sonification you just heard was based on a harmonic latice called a tone nets. The idea is that moving left and right, you jump by perfect fifths, and moving up and down, you jump by major thirds. I once made a video in which I simulated a bunch of grains of sand being magnetically attracted to a tone nets. If this kind of obscure nonsense is your cup of tea, congratulations. You're the intended audience for my channel. Oh, and I released a 1 hour video of tictactoe music for studying and meditation because. Wait. Why did I do that again? Worm, worm, worm, worm, worm, worm, worm, worm, worm, worm, worm, worm, worm, worm, worm, worm, worm, worm, worm, worm, worm, worm. Close.\n"
     ]
    }
   ],
   "source": [
    "print(transcript.text)"
   ]
  },
  {
   "cell_type": "markdown",
   "metadata": {},
   "source": [
    "Option 2: Transcribe to txt file"
   ]
  },
  {
   "cell_type": "code",
   "execution_count": 6,
   "metadata": {},
   "outputs": [],
   "source": [
    "#edit name appropriately\n",
    "file_name = 'name_transcript'\n",
    "with open(file_name+'.txt', 'w') as out:\n",
    "    i = 0\n",
    "    c = 0\n",
    "    x = len(transcript.text)\n",
    "    while(i != x):\n",
    "        if(transcript.text[i] == ' '):\n",
    "            c+=1\n",
    "        \n",
    "        out.write(transcript.text[i])\n",
    "        if(c == 15):\n",
    "            out.write('\\n')\n",
    "            c = 0\n",
    "        i+=1"
   ]
  }
 ],
 "metadata": {
  "kernelspec": {
   "display_name": "Python 3",
   "language": "python",
   "name": "python3"
  },
  "language_info": {
   "codemirror_mode": {
    "name": "ipython",
    "version": 3
   },
   "file_extension": ".py",
   "mimetype": "text/x-python",
   "name": "python",
   "nbconvert_exporter": "python",
   "pygments_lexer": "ipython3",
   "version": "3.11.0"
  }
 },
 "nbformat": 4,
 "nbformat_minor": 2
}
